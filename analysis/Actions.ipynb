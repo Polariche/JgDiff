{
  "nbformat": 4,
  "nbformat_minor": 0,
  "metadata": {
    "kernelspec": {
      "display_name": "Python 3",
      "language": "python",
      "name": "python3"
    },
    "language_info": {
      "codemirror_mode": {
        "name": "ipython",
        "version": 3
      },
      "file_extension": ".py",
      "mimetype": "text/x-python",
      "name": "python",
      "nbconvert_exporter": "python",
      "pygments_lexer": "ipython3",
      "version": "3.6.1"
    },
    "colab": {
      "name": "Actions",
      "provenance": [],
      "collapsed_sections": []
    }
  },
  "cells": [
    {
      "cell_type": "code",
      "metadata": {
        "id": "iRZ8izLUuv0S",
        "colab_type": "code",
        "outputId": "42b77176-defe-4e26-bab6-a1ee175c6544",
        "colab": {
          "base_uri": "https://localhost:8080/",
          "height": 34
        }
      },
      "source": [
        "from google.colab import drive\n",
        "drive.mount('/content/gdrive/')\n",
        "\n",
        "path = '/content/gdrive/My Drive/__학교/알고리즘/팀플/JgDiff/'\n",
        "\n",
        "import sys\n",
        "sys.path.append(path)"
      ],
      "execution_count": 2,
      "outputs": [
        {
          "output_type": "stream",
          "text": [
            "Drive already mounted at /content/gdrive/; to attempt to forcibly remount, call drive.mount(\"/content/gdrive/\", force_remount=True).\n"
          ],
          "name": "stdout"
        }
      ]
    },
    {
      "cell_type": "code",
      "metadata": {
        "id": "SYnsPFzXuKUf",
        "colab_type": "code",
        "colab": {}
      },
      "source": [
        "import sys\n",
        "import pandas as pd\n",
        "import numpy as np\n",
        "import matplotlib.pyplot as plt\n",
        "from sklearn.linear_model import Lasso, LinearRegression, Ridge, LogisticRegression\n",
        "from sklearn.kernel_ridge import KernelRidge\n",
        "sys.path.insert(0, '..')\n",
        "import bigdata\n",
        "\n",
        "from sklearn.neighbors.kde import KernelDensity\n",
        "import scipy.stats as st"
      ],
      "execution_count": 0,
      "outputs": []
    },
    {
      "cell_type": "code",
      "metadata": {
        "id": "9C9hEIuhuKUm",
        "colab_type": "code",
        "colab": {}
      },
      "source": [
        "def trainSet(t):\n",
        "    return t[t['matchId'].apply(lambda x: int(x)%5!=0)]\n",
        "\n",
        "def testSet(t):\n",
        "    return t[t['matchId'].apply(lambda x: int(x)%5==0)]"
      ],
      "execution_count": 0,
      "outputs": []
    },
    {
      "cell_type": "code",
      "metadata": {
        "scrolled": true,
        "id": "1igi-CmQuKUt",
        "colab_type": "code",
        "colab": {}
      },
      "source": [
        "champions = pd.read_csv(path+\"/supplement/champions.csv\")\n",
        "champions = champions.reset_index().set_index('id')"
      ],
      "execution_count": 0,
      "outputs": []
    },
    {
      "cell_type": "code",
      "metadata": {
        "id": "1wxT2EE2uKUy",
        "colab_type": "code",
        "colab": {}
      },
      "source": [
        "matchroles = pd.read_csv(path+\"/supplement/matchrole.csv\")\n",
        "matchroles_tr = trainSet(matchroles).reset_index(drop=True)\n",
        "matchroles_ts = testSet(matchroles).reset_index(drop=True)"
      ],
      "execution_count": 0,
      "outputs": []
    },
    {
      "cell_type": "code",
      "metadata": {
        "scrolled": true,
        "id": "_DPKNMciuKU4",
        "colab_type": "code",
        "colab": {}
      },
      "source": [
        "kills = pd.read_csv(path+\"/supplement/kills.csv\")\n",
        "kills.assist = kills.fillna(-1).assist.apply(lambda x: str(int(x)))\n",
        "kills_tr = trainSet(kills).reset_index(drop=True)\n",
        "kills_ts = testSet(kills).reset_index(drop=True)"
      ],
      "execution_count": 0,
      "outputs": []
    },
    {
      "cell_type": "code",
      "metadata": {
        "id": "dasTEHstjPsI",
        "colab_type": "code",
        "colab": {}
      },
      "source": [
        "objects = pd.read_csv(path+\"/supplement/objects.csv\")\n",
        "objects_tr = trainSet(objects).reset_index(drop=True)\n",
        "objects_ts = testSet(objects).reset_index(drop=True)"
      ],
      "execution_count": 0,
      "outputs": []
    },
    {
      "cell_type": "code",
      "metadata": {
        "id": "q42G0kpASOV-",
        "colab_type": "code",
        "colab": {}
      },
      "source": [
        "playerFrame = pd.read_csv(path+\"/supplement/playerFrameTable.csv\")"
      ],
      "execution_count": 0,
      "outputs": []
    },
    {
      "cell_type": "code",
      "metadata": {
        "id": "jBnnlCY1Y91e",
        "colab_type": "code",
        "colab": {}
      },
      "source": [
        "modified_pos = bigdata.diagTransform(playerFrame[['position_x', 'position_y']].values)\n",
        "\n",
        "playerFrame['x'] = modified_pos[:,0]\n",
        "playerFrame['y'] = modified_pos[:, 1]\n",
        "playerFrame['team'] = (playerFrame['participantId'] > 5).astype(int)\n",
        "playerFrame['x_'] = playerFrame['x'] * (2*playerFrame['team']-1)\n",
        "\n",
        "playerFrame_tr = trainSet(playerFrame)\n",
        "playerFrame_ts = testSet(playerFrame)"
      ],
      "execution_count": 0,
      "outputs": []
    },
    {
      "cell_type": "markdown",
      "metadata": {
        "id": "bQJn0C3Xx01P",
        "colab_type": "text"
      },
      "source": [
        "# Starting Position per Team & Champion"
      ]
    },
    {
      "cell_type": "code",
      "metadata": {
        "id": "8CtRQdcW2ccG",
        "colab_type": "code",
        "colab": {}
      },
      "source": [
        "def startpos_map(teamJ, cId, savepath):\n",
        "    X = teamJ[cId][['position_x', 'position_y']].values\n",
        "\n",
        "    xx, yy = np.mgrid[0:15000:100j, 0:15000:100j]\n",
        "\n",
        "    positions = np.vstack([xx.ravel(), yy.ravel()])\n",
        "    values = np.vstack([X[:,0], X[:,1]])\n",
        "    kernel = st.gaussian_kde(values)\n",
        "\n",
        "    f = np.reshape(kernel(positions).T, xx.shape)\n",
        "\n",
        "    plt.contourf(xx, yy, f, cmap='coolwarm')\n",
        "    plt.savefig(savepath)"
      ],
      "execution_count": 0,
      "outputs": []
    },
    {
      "cell_type": "code",
      "metadata": {
        "id": "RhOHHaEwvRf9",
        "colab_type": "code",
        "colab": {
          "base_uri": "https://localhost:8080/",
          "height": 228
        },
        "outputId": "523277a7-ad38-4c3b-cb5b-eb756db42f31"
      },
      "source": [
        "\n",
        "blue_jgstart = playerFrame_tr[(playerFrame_tr.frame == 1) & (matchroles.set_index('matchId').loc[playerFrame_tr.matchId]['Jgl_0_id '].values == playerFrame_tr.participantId)]\n",
        "red_jgstart = playerFrame_tr[(playerFrame_tr.frame == 1) & (matchroles.set_index('matchId').loc[playerFrame_tr.matchId]['Jgl_1_id'].values == playerFrame_tr.participantId)]\n",
        "\n",
        "blue_jgstart['jg_champion'] = matchroles.set_index('matchId').loc[blue_jgstart.matchId]['Jgl_0_ch'].values\n",
        "red_jgstart['jg_champion'] = matchroles.set_index('matchId').loc[red_jgstart.matchId]['Jgl_1_ch'].values\n",
        "\n",
        "bj = dict(list(blue_jgstart.groupby('jg_champion')))\n",
        "rj = dict(list(red_jgstart.groupby('jg_champion')))\n",
        "\n",
        "for i, items in bj.items():\n",
        "    if len(items) < 100:\n",
        "        continue\n",
        "    startpos_map(bj, i, path+'results/StartPosition/Blue/'+champions.loc[i]['name']+'.png') \n",
        "\n",
        "for i, items in rj.items():\n",
        "    if len(items) < 100:\n",
        "        continue\n",
        "    startpos_map(rj, i, path+'results/StartPosition/Red/'+champions.loc[i]['name']+'.png') "
      ],
      "execution_count": 112,
      "outputs": [
        {
          "output_type": "stream",
          "text": [
            "/usr/local/lib/python3.6/dist-packages/ipykernel_launcher.py:5: SettingWithCopyWarning: \n",
            "A value is trying to be set on a copy of a slice from a DataFrame.\n",
            "Try using .loc[row_indexer,col_indexer] = value instead\n",
            "\n",
            "See the caveats in the documentation: http://pandas.pydata.org/pandas-docs/stable/user_guide/indexing.html#returning-a-view-versus-a-copy\n",
            "  \"\"\"\n",
            "/usr/local/lib/python3.6/dist-packages/ipykernel_launcher.py:6: SettingWithCopyWarning: \n",
            "A value is trying to be set on a copy of a slice from a DataFrame.\n",
            "Try using .loc[row_indexer,col_indexer] = value instead\n",
            "\n",
            "See the caveats in the documentation: http://pandas.pydata.org/pandas-docs/stable/user_guide/indexing.html#returning-a-view-versus-a-copy\n",
            "  \n"
          ],
          "name": "stderr"
        }
      ]
    },
    {
      "cell_type": "code",
      "metadata": {
        "id": "coMx0NpVzyYY",
        "colab_type": "code",
        "colab": {}
      },
      "source": [
        "blue_jgstart2 = playerFrame_tr[(playerFrame_tr.frame == 2) & (matchroles.set_index('matchId').loc[playerFrame_tr.index]['Jgl_0_id '] == playerFrame_tr.participantId)]\n",
        "red_jgstart2 = playerFrame_tr[(playerFrame_tr.frame == 2) & (matchroles.set_index('matchId').loc[playerFrame_tr.index]['Jgl_1_id'] == playerFrame_tr.participantId)]\n",
        "\n",
        "blue_jgstart2['jg_champion'] = matchroles.set_index('matchId').loc[blue_jgstart2.index]['Jgl_0_ch'].values\n",
        "red_jgstart2['jg_champion'] = matchroles.set_index('matchId').loc[red_jgstart2.index]['Jgl_1_ch'].values\n",
        "\n",
        "bj2 = dict(list(blue_jgstart2.groupby('jg_champion')))\n",
        "rj2 = dict(list(red_jgstart2.groupby('jg_champion')))\n",
        "\n",
        "\n",
        "for i, items in bj.items():\n",
        "    if len(items) < 100:\n",
        "        continue\n",
        "    startpos_map(bj2, i, path+'results/StartPosition/Blue2/'+champions.loc[i]['name']+'.png') \n",
        "    \n",
        "for i, items in rj.items():\n",
        "    if len(items) < 100:\n",
        "        continue\n",
        "    startpos_map(rj2, i, path+'results/StartPosition/Red2/'+champions.loc[i]['name']+'.png') "
      ],
      "execution_count": 0,
      "outputs": []
    },
    {
      "cell_type": "code",
      "metadata": {
        "id": "dYxyMT9b6n2w",
        "colab_type": "code",
        "colab": {}
      },
      "source": [
        "blue_jgstart3 = playerFrame_tr[(playerFrame_tr.frame == 3) & (matchroles.set_index('matchId').loc[playerFrame_tr.index]['Jgl_0_id '] == playerFrame_tr.participantId)]\n",
        "red_jgstart3 = playerFrame_tr[(playerFrame_tr.frame == 3) & (matchroles.set_index('matchId').loc[playerFrame_tr.index]['Jgl_1_id'] == playerFrame_tr.participantId)]\n",
        "\n",
        "blue_jgstart3['jg_champion'] = matchroles.set_index('matchId').loc[blue_jgstart3.index]['Jgl_0_ch'].values\n",
        "red_jgstart3['jg_champion'] = matchroles.set_index('matchId').loc[red_jgstart3.index]['Jgl_1_ch'].values\n",
        "\n",
        "bj3 = dict(list(blue_jgstart3.groupby('jg_champion')))\n",
        "rj3 = dict(list(red_jgstart3.groupby('jg_champion')))\n",
        "\n",
        "\n",
        "for i, items in bj.items():\n",
        "    if len(items) < 100:\n",
        "        continue\n",
        "    startpos_map(bj3, i, path+'results/StartPosition/Blue3/'+champions.loc[i]['name']+'.png') \n",
        "    \n",
        "for i, items in rj.items():\n",
        "    if len(items) < 100:\n",
        "        continue\n",
        "    startpos_map(rj3, i, path+'results/StartPosition/Red3/'+champions.loc[i]['name']+'.png') "
      ],
      "execution_count": 0,
      "outputs": []
    },
    {
      "cell_type": "code",
      "metadata": {
        "id": "9KOjK0I4c6HH",
        "colab_type": "code",
        "colab": {
          "base_uri": "https://localhost:8080/",
          "height": 438
        },
        "outputId": "6f3823c3-8529-43b9-e130-9fb14ed94225"
      },
      "source": [
        "matchroles"
      ],
      "execution_count": 75,
      "outputs": [
        {
          "output_type": "execute_result",
          "data": {
            "text/html": [
              "<div>\n",
              "<style scoped>\n",
              "    .dataframe tbody tr th:only-of-type {\n",
              "        vertical-align: middle;\n",
              "    }\n",
              "\n",
              "    .dataframe tbody tr th {\n",
              "        vertical-align: top;\n",
              "    }\n",
              "\n",
              "    .dataframe thead th {\n",
              "        text-align: right;\n",
              "    }\n",
              "</style>\n",
              "<table border=\"1\" class=\"dataframe\">\n",
              "  <thead>\n",
              "    <tr style=\"text-align: right;\">\n",
              "      <th></th>\n",
              "      <th>Unnamed: 0</th>\n",
              "      <th>matchId</th>\n",
              "      <th>Top_0_id</th>\n",
              "      <th>Jgl_0_id</th>\n",
              "      <th>Mid_0_id</th>\n",
              "      <th>Bot_0_id</th>\n",
              "      <th>Sup_0_id</th>\n",
              "      <th>Top_1_id</th>\n",
              "      <th>Jgl_1_id</th>\n",
              "      <th>Mid_1_id</th>\n",
              "      <th>Bot_1_id</th>\n",
              "      <th>Sup_1_id</th>\n",
              "      <th>Top_0_ch</th>\n",
              "      <th>Jgl_0_ch</th>\n",
              "      <th>Mid_0_ch</th>\n",
              "      <th>Bot_0_ch</th>\n",
              "      <th>Sup_0_ch</th>\n",
              "      <th>Top_1_ch</th>\n",
              "      <th>Jgl_1_ch</th>\n",
              "      <th>Mid_1_ch</th>\n",
              "      <th>Bot_1_ch</th>\n",
              "      <th>Sup_1_ch</th>\n",
              "    </tr>\n",
              "  </thead>\n",
              "  <tbody>\n",
              "    <tr>\n",
              "      <th>0</th>\n",
              "      <td>0</td>\n",
              "      <td>3273218631</td>\n",
              "      <td>4</td>\n",
              "      <td>5</td>\n",
              "      <td>3</td>\n",
              "      <td>2</td>\n",
              "      <td>1</td>\n",
              "      <td>9</td>\n",
              "      <td>7</td>\n",
              "      <td>10</td>\n",
              "      <td>6</td>\n",
              "      <td>8</td>\n",
              "      <td>122</td>\n",
              "      <td>56</td>\n",
              "      <td>30</td>\n",
              "      <td>18</td>\n",
              "      <td>12</td>\n",
              "      <td>133</td>\n",
              "      <td>164</td>\n",
              "      <td>34</td>\n",
              "      <td>8</td>\n",
              "      <td>9</td>\n",
              "    </tr>\n",
              "    <tr>\n",
              "      <th>1</th>\n",
              "      <td>1</td>\n",
              "      <td>3273221800</td>\n",
              "      <td>1</td>\n",
              "      <td>3</td>\n",
              "      <td>2</td>\n",
              "      <td>4</td>\n",
              "      <td>5</td>\n",
              "      <td>7</td>\n",
              "      <td>6</td>\n",
              "      <td>9</td>\n",
              "      <td>8</td>\n",
              "      <td>10</td>\n",
              "      <td>80</td>\n",
              "      <td>163</td>\n",
              "      <td>4</td>\n",
              "      <td>81</td>\n",
              "      <td>201</td>\n",
              "      <td>79</td>\n",
              "      <td>107</td>\n",
              "      <td>55</td>\n",
              "      <td>202</td>\n",
              "      <td>25</td>\n",
              "    </tr>\n",
              "    <tr>\n",
              "      <th>2</th>\n",
              "      <td>2</td>\n",
              "      <td>3278904898</td>\n",
              "      <td>5</td>\n",
              "      <td>2</td>\n",
              "      <td>4</td>\n",
              "      <td>3</td>\n",
              "      <td>1</td>\n",
              "      <td>8</td>\n",
              "      <td>10</td>\n",
              "      <td>9</td>\n",
              "      <td>7</td>\n",
              "      <td>6</td>\n",
              "      <td>58</td>\n",
              "      <td>28</td>\n",
              "      <td>4</td>\n",
              "      <td>106</td>\n",
              "      <td>25</td>\n",
              "      <td>30</td>\n",
              "      <td>141</td>\n",
              "      <td>55</td>\n",
              "      <td>202</td>\n",
              "      <td>26</td>\n",
              "    </tr>\n",
              "    <tr>\n",
              "      <th>3</th>\n",
              "      <td>3</td>\n",
              "      <td>3287833940</td>\n",
              "      <td>2</td>\n",
              "      <td>5</td>\n",
              "      <td>4</td>\n",
              "      <td>3</td>\n",
              "      <td>1</td>\n",
              "      <td>6</td>\n",
              "      <td>9</td>\n",
              "      <td>7</td>\n",
              "      <td>8</td>\n",
              "      <td>10</td>\n",
              "      <td>27</td>\n",
              "      <td>141</td>\n",
              "      <td>266</td>\n",
              "      <td>202</td>\n",
              "      <td>555</td>\n",
              "      <td>36</td>\n",
              "      <td>35</td>\n",
              "      <td>126</td>\n",
              "      <td>61</td>\n",
              "      <td>53</td>\n",
              "    </tr>\n",
              "    <tr>\n",
              "      <th>4</th>\n",
              "      <td>4</td>\n",
              "      <td>3292739224</td>\n",
              "      <td>3</td>\n",
              "      <td>2</td>\n",
              "      <td>5</td>\n",
              "      <td>1</td>\n",
              "      <td>4</td>\n",
              "      <td>6</td>\n",
              "      <td>8</td>\n",
              "      <td>10</td>\n",
              "      <td>7</td>\n",
              "      <td>9</td>\n",
              "      <td>27</td>\n",
              "      <td>164</td>\n",
              "      <td>103</td>\n",
              "      <td>81</td>\n",
              "      <td>25</td>\n",
              "      <td>126</td>\n",
              "      <td>141</td>\n",
              "      <td>3</td>\n",
              "      <td>145</td>\n",
              "      <td>16</td>\n",
              "    </tr>\n",
              "    <tr>\n",
              "      <th>...</th>\n",
              "      <td>...</td>\n",
              "      <td>...</td>\n",
              "      <td>...</td>\n",
              "      <td>...</td>\n",
              "      <td>...</td>\n",
              "      <td>...</td>\n",
              "      <td>...</td>\n",
              "      <td>...</td>\n",
              "      <td>...</td>\n",
              "      <td>...</td>\n",
              "      <td>...</td>\n",
              "      <td>...</td>\n",
              "      <td>...</td>\n",
              "      <td>...</td>\n",
              "      <td>...</td>\n",
              "      <td>...</td>\n",
              "      <td>...</td>\n",
              "      <td>...</td>\n",
              "      <td>...</td>\n",
              "      <td>...</td>\n",
              "      <td>...</td>\n",
              "      <td>...</td>\n",
              "    </tr>\n",
              "    <tr>\n",
              "      <th>18373</th>\n",
              "      <td>18373</td>\n",
              "      <td>3956480499</td>\n",
              "      <td>2</td>\n",
              "      <td>4</td>\n",
              "      <td>5</td>\n",
              "      <td>1</td>\n",
              "      <td>3</td>\n",
              "      <td>7</td>\n",
              "      <td>10</td>\n",
              "      <td>9</td>\n",
              "      <td>6</td>\n",
              "      <td>8</td>\n",
              "      <td>126</td>\n",
              "      <td>11</td>\n",
              "      <td>44</td>\n",
              "      <td>67</td>\n",
              "      <td>117</td>\n",
              "      <td>31</td>\n",
              "      <td>64</td>\n",
              "      <td>136</td>\n",
              "      <td>145</td>\n",
              "      <td>40</td>\n",
              "    </tr>\n",
              "    <tr>\n",
              "      <th>18374</th>\n",
              "      <td>18374</td>\n",
              "      <td>3956483153</td>\n",
              "      <td>4</td>\n",
              "      <td>5</td>\n",
              "      <td>1</td>\n",
              "      <td>2</td>\n",
              "      <td>3</td>\n",
              "      <td>8</td>\n",
              "      <td>9</td>\n",
              "      <td>10</td>\n",
              "      <td>6</td>\n",
              "      <td>7</td>\n",
              "      <td>126</td>\n",
              "      <td>76</td>\n",
              "      <td>268</td>\n",
              "      <td>22</td>\n",
              "      <td>25</td>\n",
              "      <td>85</td>\n",
              "      <td>64</td>\n",
              "      <td>127</td>\n",
              "      <td>110</td>\n",
              "      <td>16</td>\n",
              "    </tr>\n",
              "    <tr>\n",
              "      <th>18375</th>\n",
              "      <td>18375</td>\n",
              "      <td>3956483610</td>\n",
              "      <td>1</td>\n",
              "      <td>4</td>\n",
              "      <td>2</td>\n",
              "      <td>3</td>\n",
              "      <td>5</td>\n",
              "      <td>8</td>\n",
              "      <td>10</td>\n",
              "      <td>9</td>\n",
              "      <td>6</td>\n",
              "      <td>7</td>\n",
              "      <td>240</td>\n",
              "      <td>30</td>\n",
              "      <td>84</td>\n",
              "      <td>18</td>\n",
              "      <td>89</td>\n",
              "      <td>114</td>\n",
              "      <td>64</td>\n",
              "      <td>8</td>\n",
              "      <td>145</td>\n",
              "      <td>412</td>\n",
              "    </tr>\n",
              "    <tr>\n",
              "      <th>18376</th>\n",
              "      <td>18376</td>\n",
              "      <td>3956484460</td>\n",
              "      <td>2</td>\n",
              "      <td>4</td>\n",
              "      <td>1</td>\n",
              "      <td>5</td>\n",
              "      <td>3</td>\n",
              "      <td>8</td>\n",
              "      <td>9</td>\n",
              "      <td>6</td>\n",
              "      <td>7</td>\n",
              "      <td>10</td>\n",
              "      <td>8</td>\n",
              "      <td>154</td>\n",
              "      <td>4</td>\n",
              "      <td>51</td>\n",
              "      <td>223</td>\n",
              "      <td>85</td>\n",
              "      <td>60</td>\n",
              "      <td>39</td>\n",
              "      <td>498</td>\n",
              "      <td>111</td>\n",
              "    </tr>\n",
              "    <tr>\n",
              "      <th>18377</th>\n",
              "      <td>18377</td>\n",
              "      <td>3956497316</td>\n",
              "      <td>2</td>\n",
              "      <td>4</td>\n",
              "      <td>3</td>\n",
              "      <td>1</td>\n",
              "      <td>5</td>\n",
              "      <td>6</td>\n",
              "      <td>7</td>\n",
              "      <td>8</td>\n",
              "      <td>10</td>\n",
              "      <td>9</td>\n",
              "      <td>120</td>\n",
              "      <td>64</td>\n",
              "      <td>74</td>\n",
              "      <td>498</td>\n",
              "      <td>26</td>\n",
              "      <td>114</td>\n",
              "      <td>421</td>\n",
              "      <td>134</td>\n",
              "      <td>236</td>\n",
              "      <td>53</td>\n",
              "    </tr>\n",
              "  </tbody>\n",
              "</table>\n",
              "<p>18378 rows × 22 columns</p>\n",
              "</div>"
            ],
            "text/plain": [
              "       Unnamed: 0     matchId  Top_0_id   ...  Mid_1_ch  Bot_1_ch  Sup_1_ch\n",
              "0               0  3273218631          4  ...        34         8         9\n",
              "1               1  3273221800          1  ...        55       202        25\n",
              "2               2  3278904898          5  ...        55       202        26\n",
              "3               3  3287833940          2  ...       126        61        53\n",
              "4               4  3292739224          3  ...         3       145        16\n",
              "...           ...         ...        ...  ...       ...       ...       ...\n",
              "18373       18373  3956480499          2  ...       136       145        40\n",
              "18374       18374  3956483153          4  ...       127       110        16\n",
              "18375       18375  3956483610          1  ...         8       145       412\n",
              "18376       18376  3956484460          2  ...        39       498       111\n",
              "18377       18377  3956497316          2  ...       134       236        53\n",
              "\n",
              "[18378 rows x 22 columns]"
            ]
          },
          "metadata": {
            "tags": []
          },
          "execution_count": 75
        }
      ]
    },
    {
      "cell_type": "markdown",
      "metadata": {
        "id": "qowyI3ks-QRW",
        "colab_type": "text"
      },
      "source": [
        "# Which Lane will be ganked first?"
      ]
    },
    {
      "cell_type": "code",
      "metadata": {
        "id": "PwMEC8UX-W2G",
        "colab_type": "code",
        "colab": {}
      },
      "source": [
        "def onehot_11(index):\n",
        "    a = np.zeros(11)\n",
        "    a[int(index)] = 1\n",
        "    return a"
      ],
      "execution_count": 0,
      "outputs": []
    },
    {
      "cell_type": "code",
      "metadata": {
        "id": "3Of78MUb_h14",
        "colab_type": "code",
        "colab": {}
      },
      "source": [
        "kills['kill_onehot'] = kills.killer.apply(onehot_11)\n",
        "kills['assist_onehot'] = kills.assist.apply(lambda x: np.zeros(11) if x=='-1' else np.sum(np.array([onehot_11(i) for i in x]), axis=0))\n",
        "kills['victim_onehot'] = kills.victim.apply(onehot_11)\n",
        "\n",
        "kills['frame'] = (kills['timestamp'] / 60000).astype(int)"
      ],
      "execution_count": 0,
      "outputs": []
    },
    {
      "cell_type": "code",
      "metadata": {
        "id": "frn26aLdBhK4",
        "colab_type": "code",
        "colab": {}
      },
      "source": [
        "m = matchroles.set_index('matchId').loc[kills.matchId].reset_index()\n",
        "ka_onehot = kills['kill_onehot']+kills['assist_onehot']\n",
        "ka_onehot = np.array([x for x in ka_onehot])"
      ],
      "execution_count": 0,
      "outputs": []
    },
    {
      "cell_type": "code",
      "metadata": {
        "id": "JUhkofCHImjZ",
        "colab_type": "code",
        "colab": {}
      },
      "source": [
        "kills['jg_related'] = ka_onehot[range(len(m)), m['Jgl_0_id '].to_numpy()] + ka_onehot[range(len(m)), m['Jgl_1_id'].to_numpy()]"
      ],
      "execution_count": 0,
      "outputs": []
    },
    {
      "cell_type": "code",
      "metadata": {
        "id": "D4wGzhScJQre",
        "colab_type": "code",
        "colab": {}
      },
      "source": [
        "kills['team'] = (kills['killer'] > 5).astype(int)"
      ],
      "execution_count": 0,
      "outputs": []
    },
    {
      "cell_type": "code",
      "metadata": {
        "id": "NW-ehK2ZA5nw",
        "colab_type": "code",
        "colab": {}
      },
      "source": [
        "kills_tr = trainSet(kills).reset_index(drop=True)\n",
        "kills_ts = testSet(kills).reset_index(drop=True)"
      ],
      "execution_count": 0,
      "outputs": []
    },
    {
      "cell_type": "code",
      "metadata": {
        "id": "DZjnqLRIkIwb",
        "colab_type": "code",
        "colab": {
          "base_uri": "https://localhost:8080/",
          "height": 586
        },
        "outputId": "a565ebbe-13df-45ca-fd07-886ec156d8d2"
      },
      "source": [
        "kills_tr"
      ],
      "execution_count": 123,
      "outputs": [
        {
          "output_type": "execute_result",
          "data": {
            "text/html": [
              "<div>\n",
              "<style scoped>\n",
              "    .dataframe tbody tr th:only-of-type {\n",
              "        vertical-align: middle;\n",
              "    }\n",
              "\n",
              "    .dataframe tbody tr th {\n",
              "        vertical-align: top;\n",
              "    }\n",
              "\n",
              "    .dataframe thead th {\n",
              "        text-align: right;\n",
              "    }\n",
              "</style>\n",
              "<table border=\"1\" class=\"dataframe\">\n",
              "  <thead>\n",
              "    <tr style=\"text-align: right;\">\n",
              "      <th></th>\n",
              "      <th>Unnamed: 0</th>\n",
              "      <th>matchId</th>\n",
              "      <th>timestamp</th>\n",
              "      <th>x</th>\n",
              "      <th>y</th>\n",
              "      <th>killer</th>\n",
              "      <th>victim</th>\n",
              "      <th>assist</th>\n",
              "      <th>kill_onehot</th>\n",
              "      <th>assist_onehot</th>\n",
              "      <th>victim_onehot</th>\n",
              "      <th>frame</th>\n",
              "      <th>jg_related</th>\n",
              "      <th>team</th>\n",
              "    </tr>\n",
              "  </thead>\n",
              "  <tbody>\n",
              "    <tr>\n",
              "      <th>0</th>\n",
              "      <td>0</td>\n",
              "      <td>3.273219e+09</td>\n",
              "      <td>156537.0</td>\n",
              "      <td>7389.0</td>\n",
              "      <td>11194.0</td>\n",
              "      <td>10.0</td>\n",
              "      <td>3.0</td>\n",
              "      <td>7</td>\n",
              "      <td>[0.0, 0.0, 0.0, 0.0, 0.0, 0.0, 0.0, 0.0, 0.0, ...</td>\n",
              "      <td>[0.0, 0.0, 0.0, 0.0, 0.0, 0.0, 0.0, 1.0, 0.0, ...</td>\n",
              "      <td>[0.0, 0.0, 0.0, 1.0, 0.0, 0.0, 0.0, 0.0, 0.0, ...</td>\n",
              "      <td>2</td>\n",
              "      <td>1.0</td>\n",
              "      <td>1</td>\n",
              "    </tr>\n",
              "    <tr>\n",
              "      <th>1</th>\n",
              "      <td>1</td>\n",
              "      <td>3.273219e+09</td>\n",
              "      <td>232722.0</td>\n",
              "      <td>5890.0</td>\n",
              "      <td>8631.0</td>\n",
              "      <td>7.0</td>\n",
              "      <td>5.0</td>\n",
              "      <td>0</td>\n",
              "      <td>[0.0, 0.0, 0.0, 0.0, 0.0, 0.0, 0.0, 1.0, 0.0, ...</td>\n",
              "      <td>[1.0, 0.0, 0.0, 0.0, 0.0, 0.0, 0.0, 0.0, 0.0, ...</td>\n",
              "      <td>[0.0, 0.0, 0.0, 0.0, 0.0, 1.0, 0.0, 0.0, 0.0, ...</td>\n",
              "      <td>3</td>\n",
              "      <td>1.0</td>\n",
              "      <td>1</td>\n",
              "    </tr>\n",
              "    <tr>\n",
              "      <th>2</th>\n",
              "      <td>2</td>\n",
              "      <td>3.273219e+09</td>\n",
              "      <td>237837.0</td>\n",
              "      <td>6324.0</td>\n",
              "      <td>8606.0</td>\n",
              "      <td>9.0</td>\n",
              "      <td>3.0</td>\n",
              "      <td>7</td>\n",
              "      <td>[0.0, 0.0, 0.0, 0.0, 0.0, 0.0, 0.0, 0.0, 0.0, ...</td>\n",
              "      <td>[0.0, 0.0, 0.0, 0.0, 0.0, 0.0, 0.0, 1.0, 0.0, ...</td>\n",
              "      <td>[0.0, 0.0, 0.0, 1.0, 0.0, 0.0, 0.0, 0.0, 0.0, ...</td>\n",
              "      <td>3</td>\n",
              "      <td>1.0</td>\n",
              "      <td>1</td>\n",
              "    </tr>\n",
              "    <tr>\n",
              "      <th>3</th>\n",
              "      <td>3</td>\n",
              "      <td>3.273219e+09</td>\n",
              "      <td>240813.0</td>\n",
              "      <td>5633.0</td>\n",
              "      <td>8549.0</td>\n",
              "      <td>3.0</td>\n",
              "      <td>10.0</td>\n",
              "      <td>5</td>\n",
              "      <td>[0.0, 0.0, 0.0, 1.0, 0.0, 0.0, 0.0, 0.0, 0.0, ...</td>\n",
              "      <td>[0.0, 0.0, 0.0, 0.0, 0.0, 1.0, 0.0, 0.0, 0.0, ...</td>\n",
              "      <td>[0.0, 0.0, 0.0, 0.0, 0.0, 0.0, 0.0, 0.0, 0.0, ...</td>\n",
              "      <td>4</td>\n",
              "      <td>1.0</td>\n",
              "      <td>0</td>\n",
              "    </tr>\n",
              "    <tr>\n",
              "      <th>4</th>\n",
              "      <td>4</td>\n",
              "      <td>3.273219e+09</td>\n",
              "      <td>255598.0</td>\n",
              "      <td>1206.0</td>\n",
              "      <td>11156.0</td>\n",
              "      <td>9.0</td>\n",
              "      <td>4.0</td>\n",
              "      <td>-1</td>\n",
              "      <td>[0.0, 0.0, 0.0, 0.0, 0.0, 0.0, 0.0, 0.0, 0.0, ...</td>\n",
              "      <td>[0.0, 0.0, 0.0, 0.0, 0.0, 0.0, 0.0, 0.0, 0.0, ...</td>\n",
              "      <td>[0.0, 0.0, 0.0, 0.0, 1.0, 0.0, 0.0, 0.0, 0.0, ...</td>\n",
              "      <td>4</td>\n",
              "      <td>0.0</td>\n",
              "      <td>1</td>\n",
              "    </tr>\n",
              "    <tr>\n",
              "      <th>...</th>\n",
              "      <td>...</td>\n",
              "      <td>...</td>\n",
              "      <td>...</td>\n",
              "      <td>...</td>\n",
              "      <td>...</td>\n",
              "      <td>...</td>\n",
              "      <td>...</td>\n",
              "      <td>...</td>\n",
              "      <td>...</td>\n",
              "      <td>...</td>\n",
              "      <td>...</td>\n",
              "      <td>...</td>\n",
              "      <td>...</td>\n",
              "      <td>...</td>\n",
              "    </tr>\n",
              "    <tr>\n",
              "      <th>643898</th>\n",
              "      <td>809769</td>\n",
              "      <td>3.956497e+09</td>\n",
              "      <td>1872026.0</td>\n",
              "      <td>6398.0</td>\n",
              "      <td>1490.0</td>\n",
              "      <td>8.0</td>\n",
              "      <td>3.0</td>\n",
              "      <td>976</td>\n",
              "      <td>[0.0, 0.0, 0.0, 0.0, 0.0, 0.0, 0.0, 0.0, 1.0, ...</td>\n",
              "      <td>[0.0, 0.0, 0.0, 0.0, 0.0, 0.0, 1.0, 1.0, 0.0, ...</td>\n",
              "      <td>[0.0, 0.0, 0.0, 1.0, 0.0, 0.0, 0.0, 0.0, 0.0, ...</td>\n",
              "      <td>31</td>\n",
              "      <td>1.0</td>\n",
              "      <td>1</td>\n",
              "    </tr>\n",
              "    <tr>\n",
              "      <th>643899</th>\n",
              "      <td>809770</td>\n",
              "      <td>3.956497e+09</td>\n",
              "      <td>1875726.0</td>\n",
              "      <td>4705.0</td>\n",
              "      <td>952.0</td>\n",
              "      <td>6.0</td>\n",
              "      <td>5.0</td>\n",
              "      <td>9</td>\n",
              "      <td>[0.0, 0.0, 0.0, 0.0, 0.0, 0.0, 1.0, 0.0, 0.0, ...</td>\n",
              "      <td>[0.0, 0.0, 0.0, 0.0, 0.0, 0.0, 0.0, 0.0, 0.0, ...</td>\n",
              "      <td>[0.0, 0.0, 0.0, 0.0, 0.0, 1.0, 0.0, 0.0, 0.0, ...</td>\n",
              "      <td>31</td>\n",
              "      <td>0.0</td>\n",
              "      <td>1</td>\n",
              "    </tr>\n",
              "    <tr>\n",
              "      <th>643900</th>\n",
              "      <td>809771</td>\n",
              "      <td>3.956497e+09</td>\n",
              "      <td>1877050.0</td>\n",
              "      <td>4945.0</td>\n",
              "      <td>814.0</td>\n",
              "      <td>8.0</td>\n",
              "      <td>1.0</td>\n",
              "      <td>976</td>\n",
              "      <td>[0.0, 0.0, 0.0, 0.0, 0.0, 0.0, 0.0, 0.0, 1.0, ...</td>\n",
              "      <td>[0.0, 0.0, 0.0, 0.0, 0.0, 0.0, 1.0, 1.0, 0.0, ...</td>\n",
              "      <td>[0.0, 1.0, 0.0, 0.0, 0.0, 0.0, 0.0, 0.0, 0.0, ...</td>\n",
              "      <td>31</td>\n",
              "      <td>1.0</td>\n",
              "      <td>1</td>\n",
              "    </tr>\n",
              "    <tr>\n",
              "      <th>643901</th>\n",
              "      <td>809772</td>\n",
              "      <td>3.956497e+09</td>\n",
              "      <td>1877512.0</td>\n",
              "      <td>6134.0</td>\n",
              "      <td>876.0</td>\n",
              "      <td>5.0</td>\n",
              "      <td>10.0</td>\n",
              "      <td>41</td>\n",
              "      <td>[0.0, 0.0, 0.0, 0.0, 0.0, 1.0, 0.0, 0.0, 0.0, ...</td>\n",
              "      <td>[0.0, 1.0, 0.0, 0.0, 1.0, 0.0, 0.0, 0.0, 0.0, ...</td>\n",
              "      <td>[0.0, 0.0, 0.0, 0.0, 0.0, 0.0, 0.0, 0.0, 0.0, ...</td>\n",
              "      <td>31</td>\n",
              "      <td>1.0</td>\n",
              "      <td>0</td>\n",
              "    </tr>\n",
              "    <tr>\n",
              "      <th>643902</th>\n",
              "      <td>809773</td>\n",
              "      <td>3.956497e+09</td>\n",
              "      <td>1883359.0</td>\n",
              "      <td>4402.0</td>\n",
              "      <td>1540.0</td>\n",
              "      <td>8.0</td>\n",
              "      <td>4.0</td>\n",
              "      <td>76</td>\n",
              "      <td>[0.0, 0.0, 0.0, 0.0, 0.0, 0.0, 0.0, 0.0, 1.0, ...</td>\n",
              "      <td>[0.0, 0.0, 0.0, 0.0, 0.0, 0.0, 1.0, 1.0, 0.0, ...</td>\n",
              "      <td>[0.0, 0.0, 0.0, 0.0, 1.0, 0.0, 0.0, 0.0, 0.0, ...</td>\n",
              "      <td>31</td>\n",
              "      <td>1.0</td>\n",
              "      <td>1</td>\n",
              "    </tr>\n",
              "  </tbody>\n",
              "</table>\n",
              "<p>643903 rows × 14 columns</p>\n",
              "</div>"
            ],
            "text/plain": [
              "        Unnamed: 0       matchId  timestamp  ...  frame  jg_related  team\n",
              "0                0  3.273219e+09   156537.0  ...      2         1.0     1\n",
              "1                1  3.273219e+09   232722.0  ...      3         1.0     1\n",
              "2                2  3.273219e+09   237837.0  ...      3         1.0     1\n",
              "3                3  3.273219e+09   240813.0  ...      4         1.0     0\n",
              "4                4  3.273219e+09   255598.0  ...      4         0.0     1\n",
              "...            ...           ...        ...  ...    ...         ...   ...\n",
              "643898      809769  3.956497e+09  1872026.0  ...     31         1.0     1\n",
              "643899      809770  3.956497e+09  1875726.0  ...     31         0.0     1\n",
              "643900      809771  3.956497e+09  1877050.0  ...     31         1.0     1\n",
              "643901      809772  3.956497e+09  1877512.0  ...     31         1.0     0\n",
              "643902      809773  3.956497e+09  1883359.0  ...     31         1.0     1\n",
              "\n",
              "[643903 rows x 14 columns]"
            ]
          },
          "metadata": {
            "tags": []
          },
          "execution_count": 123
        }
      ]
    },
    {
      "cell_type": "code",
      "metadata": {
        "id": "GjnaY7RScohV",
        "colab_type": "code",
        "colab": {}
      },
      "source": [
        "blue_jgkill = kills_tr[(kills_tr['jg_related']==1) & (kills_tr.team == 0)].groupby('matchId').first()\n",
        "blue_jgkill['jg_champ'] = matchroles.set_index('matchId').loc[blue_jgkill.index]['Jgl_0_ch']"
      ],
      "execution_count": 0,
      "outputs": []
    },
    {
      "cell_type": "code",
      "metadata": {
        "id": "xuukItbcdcOg",
        "colab_type": "code",
        "colab": {}
      },
      "source": [
        "red_jgkill = kills_tr[(kills_tr['jg_related']==1) & (kills_tr.team == 1)].groupby('matchId').first()\n",
        "red_jgkill['jg_champ'] = matchroles.set_index('matchId').loc[red_jgkill.index]['Jgl_1_ch']"
      ],
      "execution_count": 0,
      "outputs": []
    },
    {
      "cell_type": "code",
      "metadata": {
        "id": "LUipBuAQkfRL",
        "colab_type": "code",
        "colab": {
          "base_uri": "https://localhost:8080/",
          "height": 34
        },
        "outputId": "5447fcd5-d444-461d-a190-d12137625733"
      },
      "source": [
        "len(blue_jgkill)"
      ],
      "execution_count": 131,
      "outputs": [
        {
          "output_type": "execute_result",
          "data": {
            "text/plain": [
              "14254"
            ]
          },
          "metadata": {
            "tags": []
          },
          "execution_count": 131
        }
      ]
    },
    {
      "cell_type": "code",
      "metadata": {
        "id": "uKv8JMU0bnyC",
        "colab_type": "code",
        "colab": {}
      },
      "source": [
        "def killpos_map(teamJ, cId, savepath=''):\n",
        "    X = teamJ[cId][['x', 'y']].values\n",
        "\n",
        "    xx, yy = np.mgrid[0:15000:100j, 0:15000:100j]\n",
        "\n",
        "    positions = np.vstack([xx.ravel(), yy.ravel()])\n",
        "    values = np.vstack([X[:,0], X[:,1]])\n",
        "    kernel = st.gaussian_kde(values)\n",
        "\n",
        "    f = np.reshape(kernel(positions).T, xx.shape)\n",
        "\n",
        "    plt.contourf(xx, yy, f, cmap='coolwarm')\n",
        "    if savepath != '':\n",
        "        plt.savefig(savepath)"
      ],
      "execution_count": 0,
      "outputs": []
    },
    {
      "cell_type": "code",
      "metadata": {
        "id": "cFfjo_LsiJ4q",
        "colab_type": "code",
        "colab": {
          "base_uri": "https://localhost:8080/",
          "height": 34
        },
        "outputId": "b8107421-9f23-4f3f-d5ba-600e64ed781e"
      },
      "source": [
        "len(blue_jgkill)"
      ],
      "execution_count": 133,
      "outputs": [
        {
          "output_type": "execute_result",
          "data": {
            "text/plain": [
              "14254"
            ]
          },
          "metadata": {
            "tags": []
          },
          "execution_count": 133
        }
      ]
    },
    {
      "cell_type": "code",
      "metadata": {
        "id": "rPweCjEiiOJN",
        "colab_type": "code",
        "colab": {
          "base_uri": "https://localhost:8080/",
          "height": 34
        },
        "outputId": "1f6a500f-b9c9-4314-9515-4eaebe6f05b2"
      },
      "source": [
        "len(blue_jgstart)"
      ],
      "execution_count": 134,
      "outputs": [
        {
          "output_type": "execute_result",
          "data": {
            "text/plain": [
              "14619"
            ]
          },
          "metadata": {
            "tags": []
          },
          "execution_count": 134
        }
      ]
    },
    {
      "cell_type": "code",
      "metadata": {
        "id": "XGhHpRHLdsR4",
        "colab_type": "code",
        "colab": {
          "base_uri": "https://localhost:8080/",
          "height": 265
        },
        "outputId": "e61b4323-ca70-409c-9eab-2e56eaff40e8"
      },
      "source": [
        "rk = dict(list(red_jgkill.groupby('jg_champ')))\n",
        "bk = dict(list(blue_jgkill.groupby('jg_champ')))\n",
        "\n",
        "for i, items in bk.items():\n",
        "    if len(items) < 100:\n",
        "        continue\n",
        "    killpos_map(bk, i, path+'results/FirstKillPosition/Blue/'+champions.loc[i]['name']+'.png') \n",
        "    \n",
        "for i, items in rk.items():\n",
        "    if len(items) < 100:\n",
        "        continue\n",
        "    killpos_map(rk, i, path+'results/FirstKillPosition/Red/'+champions.loc[i]['name']+'.png') "
      ],
      "execution_count": 135,
      "outputs": [
        {
          "output_type": "display_data",
          "data": {
            "image/png": "[encoded data removed]",
            "text/plain": [
              "<Figure size 432x288 with 1 Axes>"
            ]
          },
          "metadata": {
            "tags": []
          }
        }
      ]
    },
    {
      "cell_type": "code",
      "metadata": {
        "id": "A1YY_RAyfNJM",
        "colab_type": "code",
        "colab": {
          "base_uri": "https://localhost:8080/",
          "height": 265
        },
        "outputId": "f54bdbaa-1456-4d93-a5cd-f4843f34e8c8"
      },
      "source": [
        "killpos_map(dict(list(blue_jgkill.groupby('jg_champ'))), 64)"
      ],
      "execution_count": 89,
      "outputs": [
        {
          "output_type": "display_data",
          "data": {
            "image/png": "[encoded data removed]",
            "text/plain": [
              "<Figure size 432x288 with 1 Axes>"
            ]
          },
          "metadata": {
            "tags": []
          }
        }
      ]
    },
    {
      "cell_type": "code",
      "metadata": {
        "id": "ALZqvcMseRFy",
        "colab_type": "code",
        "colab": {
          "base_uri": "https://localhost:8080/",
          "height": 265
        },
        "outputId": "c6844a99-ec30-42de-9698-ec6c844cb8c3"
      },
      "source": [
        "killpos_map(dict(list(red_jgkill.groupby('jg_champ'))), 60)"
      ],
      "execution_count": 87,
      "outputs": [
        {
          "output_type": "display_data",
          "data": {
            "image/png": "[encoded data removed]",
            "text/plain": [
              "<Figure size 432x288 with 1 Axes>"
            ]
          },
          "metadata": {
            "tags": []
          }
        }
      ]
    },
    {
      "cell_type": "code",
      "metadata": {
        "id": "pMyebU2EelB-",
        "colab_type": "code",
        "colab": {
          "base_uri": "https://localhost:8080/",
          "height": 265
        },
        "outputId": "99564152-445c-43eb-9f57-8d3ab0f9bdf8"
      },
      "source": [
        "killpos_map(dict(list(blue_jgkill.groupby('jg_champ'))), 60)"
      ],
      "execution_count": 88,
      "outputs": [
        {
          "output_type": "display_data",
          "data": {
            "image/png": "[encoded data removed]",
            "text/plain": [
              "<Figure size 432x288 with 1 Axes>"
            ]
          },
          "metadata": {
            "tags": []
          }
        }
      ]
    },
    {
      "cell_type": "code",
      "metadata": {
        "id": "tTEmqxWFXwGp",
        "colab_type": "code",
        "colab": {
          "base_uri": "https://localhost:8080/",
          "height": 140
        },
        "outputId": "ac0d0795-85da-4f2d-bdf3-06e2204ec115"
      },
      "source": [
        "np.argsort(matchroles.iloc[:,2:12].to_numpy()-1, axis=1)+1"
      ],
      "execution_count": 65,
      "outputs": [
        {
          "output_type": "execute_result",
          "data": {
            "text/plain": [
              "array([[ 5,  4,  3, ..., 10,  6,  8],\n",
              "       [ 1,  3,  2, ...,  9,  8, 10],\n",
              "       [ 5,  2,  4, ...,  6,  8,  7],\n",
              "       ...,\n",
              "       [ 1,  3,  4, ...,  6,  8,  7],\n",
              "       [ 3,  1,  5, ...,  6,  7, 10],\n",
              "       [ 4,  1,  3, ...,  8, 10,  9]])"
            ]
          },
          "metadata": {
            "tags": []
          },
          "execution_count": 65
        }
      ]
    },
    {
      "cell_type": "code",
      "metadata": {
        "id": "GXwiE1hvYxJn",
        "colab_type": "code",
        "colab": {
          "base_uri": "https://localhost:8080/",
          "height": 402
        },
        "outputId": "22ec2f03-2aaa-4caa-c731-b82072eb63a7"
      },
      "source": [
        "matchroles.iloc[:,2:12]"
      ],
      "execution_count": 62,
      "outputs": [
        {
          "output_type": "execute_result",
          "data": {
            "text/html": [
              "<div>\n",
              "<style scoped>\n",
              "    .dataframe tbody tr th:only-of-type {\n",
              "        vertical-align: middle;\n",
              "    }\n",
              "\n",
              "    .dataframe tbody tr th {\n",
              "        vertical-align: top;\n",
              "    }\n",
              "\n",
              "    .dataframe thead th {\n",
              "        text-align: right;\n",
              "    }\n",
              "</style>\n",
              "<table border=\"1\" class=\"dataframe\">\n",
              "  <thead>\n",
              "    <tr style=\"text-align: right;\">\n",
              "      <th></th>\n",
              "      <th>Top_0_id</th>\n",
              "      <th>Jgl_0_id</th>\n",
              "      <th>Mid_0_id</th>\n",
              "      <th>Bot_0_id</th>\n",
              "      <th>Sup_0_id</th>\n",
              "      <th>Top_1_id</th>\n",
              "      <th>Jgl_1_id</th>\n",
              "      <th>Mid_1_id</th>\n",
              "      <th>Bot_1_id</th>\n",
              "      <th>Sup_1_id</th>\n",
              "    </tr>\n",
              "  </thead>\n",
              "  <tbody>\n",
              "    <tr>\n",
              "      <th>0</th>\n",
              "      <td>4</td>\n",
              "      <td>5</td>\n",
              "      <td>3</td>\n",
              "      <td>2</td>\n",
              "      <td>1</td>\n",
              "      <td>9</td>\n",
              "      <td>7</td>\n",
              "      <td>10</td>\n",
              "      <td>6</td>\n",
              "      <td>8</td>\n",
              "    </tr>\n",
              "    <tr>\n",
              "      <th>1</th>\n",
              "      <td>1</td>\n",
              "      <td>3</td>\n",
              "      <td>2</td>\n",
              "      <td>4</td>\n",
              "      <td>5</td>\n",
              "      <td>7</td>\n",
              "      <td>6</td>\n",
              "      <td>9</td>\n",
              "      <td>8</td>\n",
              "      <td>10</td>\n",
              "    </tr>\n",
              "    <tr>\n",
              "      <th>2</th>\n",
              "      <td>5</td>\n",
              "      <td>2</td>\n",
              "      <td>4</td>\n",
              "      <td>3</td>\n",
              "      <td>1</td>\n",
              "      <td>8</td>\n",
              "      <td>10</td>\n",
              "      <td>9</td>\n",
              "      <td>7</td>\n",
              "      <td>6</td>\n",
              "    </tr>\n",
              "    <tr>\n",
              "      <th>3</th>\n",
              "      <td>2</td>\n",
              "      <td>5</td>\n",
              "      <td>4</td>\n",
              "      <td>3</td>\n",
              "      <td>1</td>\n",
              "      <td>6</td>\n",
              "      <td>9</td>\n",
              "      <td>7</td>\n",
              "      <td>8</td>\n",
              "      <td>10</td>\n",
              "    </tr>\n",
              "    <tr>\n",
              "      <th>4</th>\n",
              "      <td>3</td>\n",
              "      <td>2</td>\n",
              "      <td>5</td>\n",
              "      <td>1</td>\n",
              "      <td>4</td>\n",
              "      <td>6</td>\n",
              "      <td>8</td>\n",
              "      <td>10</td>\n",
              "      <td>7</td>\n",
              "      <td>9</td>\n",
              "    </tr>\n",
              "    <tr>\n",
              "      <th>...</th>\n",
              "      <td>...</td>\n",
              "      <td>...</td>\n",
              "      <td>...</td>\n",
              "      <td>...</td>\n",
              "      <td>...</td>\n",
              "      <td>...</td>\n",
              "      <td>...</td>\n",
              "      <td>...</td>\n",
              "      <td>...</td>\n",
              "      <td>...</td>\n",
              "    </tr>\n",
              "    <tr>\n",
              "      <th>18373</th>\n",
              "      <td>2</td>\n",
              "      <td>4</td>\n",
              "      <td>5</td>\n",
              "      <td>1</td>\n",
              "      <td>3</td>\n",
              "      <td>7</td>\n",
              "      <td>10</td>\n",
              "      <td>9</td>\n",
              "      <td>6</td>\n",
              "      <td>8</td>\n",
              "    </tr>\n",
              "    <tr>\n",
              "      <th>18374</th>\n",
              "      <td>4</td>\n",
              "      <td>5</td>\n",
              "      <td>1</td>\n",
              "      <td>2</td>\n",
              "      <td>3</td>\n",
              "      <td>8</td>\n",
              "      <td>9</td>\n",
              "      <td>10</td>\n",
              "      <td>6</td>\n",
              "      <td>7</td>\n",
              "    </tr>\n",
              "    <tr>\n",
              "      <th>18375</th>\n",
              "      <td>1</td>\n",
              "      <td>4</td>\n",
              "      <td>2</td>\n",
              "      <td>3</td>\n",
              "      <td>5</td>\n",
              "      <td>8</td>\n",
              "      <td>10</td>\n",
              "      <td>9</td>\n",
              "      <td>6</td>\n",
              "      <td>7</td>\n",
              "    </tr>\n",
              "    <tr>\n",
              "      <th>18376</th>\n",
              "      <td>2</td>\n",
              "      <td>4</td>\n",
              "      <td>1</td>\n",
              "      <td>5</td>\n",
              "      <td>3</td>\n",
              "      <td>8</td>\n",
              "      <td>9</td>\n",
              "      <td>6</td>\n",
              "      <td>7</td>\n",
              "      <td>10</td>\n",
              "    </tr>\n",
              "    <tr>\n",
              "      <th>18377</th>\n",
              "      <td>2</td>\n",
              "      <td>4</td>\n",
              "      <td>3</td>\n",
              "      <td>1</td>\n",
              "      <td>5</td>\n",
              "      <td>6</td>\n",
              "      <td>7</td>\n",
              "      <td>8</td>\n",
              "      <td>10</td>\n",
              "      <td>9</td>\n",
              "    </tr>\n",
              "  </tbody>\n",
              "</table>\n",
              "<p>18378 rows × 10 columns</p>\n",
              "</div>"
            ],
            "text/plain": [
              "       Top_0_id   Jgl_0_id   Mid_0_id   ...  Mid_1_id  Bot_1_id  Sup_1_id\n",
              "0              4          5          3  ...        10         6         8\n",
              "1              1          3          2  ...         9         8        10\n",
              "2              5          2          4  ...         9         7         6\n",
              "3              2          5          4  ...         7         8        10\n",
              "4              3          2          5  ...        10         7         9\n",
              "...          ...        ...        ...  ...       ...       ...       ...\n",
              "18373          2          4          5  ...         9         6         8\n",
              "18374          4          5          1  ...        10         6         7\n",
              "18375          1          4          2  ...         9         6         7\n",
              "18376          2          4          1  ...         6         7        10\n",
              "18377          2          4          3  ...         8        10         9\n",
              "\n",
              "[18378 rows x 10 columns]"
            ]
          },
          "metadata": {
            "tags": []
          },
          "execution_count": 62
        }
      ]
    },
    {
      "cell_type": "code",
      "metadata": {
        "id": "9bc0tTioB3cP",
        "colab_type": "code",
        "colab": {
          "base_uri": "https://localhost:8080/",
          "height": 228
        },
        "outputId": "a5f05857-2e52-4dee-b65e-47406511fd17"
      },
      "source": [
        "kills['kill_onehot']+kills['assist_onehot']"
      ],
      "execution_count": 255,
      "outputs": [
        {
          "output_type": "execute_result",
          "data": {
            "text/plain": [
              "0         [0.0, 0.0, 0.0, 0.0, 0.0, 0.0, 0.0, 1.0, 0.0, ...\n",
              "1         [1.0, 0.0, 0.0, 0.0, 0.0, 0.0, 0.0, 1.0, 0.0, ...\n",
              "2         [0.0, 0.0, 0.0, 0.0, 0.0, 0.0, 0.0, 1.0, 0.0, ...\n",
              "3         [0.0, 0.0, 0.0, 1.0, 0.0, 1.0, 0.0, 0.0, 0.0, ...\n",
              "4         [0.0, 0.0, 0.0, 0.0, 0.0, 0.0, 0.0, 0.0, 0.0, ...\n",
              "                                ...                        \n",
              "809769    [0.0, 0.0, 0.0, 0.0, 0.0, 0.0, 1.0, 1.0, 1.0, ...\n",
              "809770    [0.0, 0.0, 0.0, 0.0, 0.0, 0.0, 1.0, 0.0, 0.0, ...\n",
              "809771    [0.0, 0.0, 0.0, 0.0, 0.0, 0.0, 1.0, 1.0, 1.0, ...\n",
              "809772    [0.0, 1.0, 0.0, 0.0, 1.0, 1.0, 0.0, 0.0, 0.0, ...\n",
              "809773    [0.0, 0.0, 0.0, 0.0, 0.0, 0.0, 1.0, 1.0, 1.0, ...\n",
              "Length: 809774, dtype: object"
            ]
          },
          "metadata": {
            "tags": []
          },
          "execution_count": 255
        }
      ]
    }
  ]
}